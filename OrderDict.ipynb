{
 "cells": [
  {
   "cell_type": "code",
   "execution_count": 20,
   "metadata": {
    "collapsed": false
   },
   "outputs": [
    {
     "name": "stdout",
     "output_type": "stream",
     "text": [
      "p 123\n",
      "q 456\n",
      "r 789\n"
     ]
    }
   ],
   "source": [
    "# Ordinary dictionary may or may not keep the order of insertion\n",
    "norm_dict={}\n",
    "\n",
    "norm_dict['p']=123\n",
    "norm_dict['q']=456\n",
    "norm_dict['r']=789\n",
    "\n",
    "for key, val in norm_dict.items():\n",
    "    print(key, val)"
   ]
  },
  {
   "cell_type": "code",
   "execution_count": 17,
   "metadata": {
    "collapsed": false
   },
   "outputs": [
    {
     "name": "stdout",
     "output_type": "stream",
     "text": [
      "a 123\n",
      "b 456\n",
      "c 789\n",
      "d 100\n"
     ]
    }
   ],
   "source": [
    "# OrderedDict dictionary may or may not keep the order of insertion\n",
    "\n",
    "from collections import OrderedDict\n",
    "\n",
    "ord_dict=OrderedDict()\n",
    "ord_dict['a']=123\n",
    "ord_dict['b']=456\n",
    "ord_dict['c']=789\n",
    "ord_dict['d']=100\n",
    "\n",
    "for key, val in ord_dict.items():\n",
    "    print(key, val)"
   ]
  },
  {
   "cell_type": "code",
   "execution_count": 22,
   "metadata": {
    "collapsed": false
   },
   "outputs": [
    {
     "name": "stdout",
     "output_type": "stream",
     "text": [
      "True\n"
     ]
    }
   ],
   "source": [
    "#Comparing two normal dictionaries with same contents but in different order\n",
    "\n",
    "normal_dict1={}\n",
    "normal_dict1['p']=123\n",
    "normal_dict1['q']=456\n",
    "normal_dict1['r']=789\n",
    "\n",
    "normal_dict2={}\n",
    "normal_dict2['r']=789\n",
    "normal_dict2['q']=456\n",
    "normal_dict2['p']=123\n",
    "\n",
    "print(normal_dict1==normal_dict2)"
   ]
  },
  {
   "cell_type": "code",
   "execution_count": 24,
   "metadata": {
    "collapsed": false
   },
   "outputs": [
    {
     "name": "stdout",
     "output_type": "stream",
     "text": [
      "False\n",
      "True\n"
     ]
    }
   ],
   "source": [
    "#Comparing two OrderDict dictionaries with same contents but in different and same order\n",
    "\n",
    "from collections import OrderedDict\n",
    "\n",
    "ordered_dict1=OrderedDict()\n",
    "ordered_dict1['p']=123\n",
    "ordered_dict1['q']=456\n",
    "ordered_dict1['r']=789\n",
    "\n",
    "ordered_dict2=OrderedDict()\n",
    "ordered_dict2['r']=789\n",
    "ordered_dict2['q']=456\n",
    "ordered_dict2['p']=123\n",
    "\n",
    "ordered_dict3=OrderedDict()\n",
    "ordered_dict3['p']=123\n",
    "ordered_dict3['q']=456\n",
    "ordered_dict3['r']=789\n",
    "\n",
    "print(ordered_dict1==ordered_dict2)\n",
    "print(ordered_dict1==ordered_dict3)"
   ]
  },
  {
   "cell_type": "code",
   "execution_count": null,
   "metadata": {
    "collapsed": true
   },
   "outputs": [],
   "source": []
  }
 ],
 "metadata": {
  "kernelspec": {
   "display_name": "Python 3",
   "language": "python",
   "name": "python3"
  },
  "language_info": {
   "codemirror_mode": {
    "name": "ipython",
    "version": 3
   },
   "file_extension": ".py",
   "mimetype": "text/x-python",
   "name": "python",
   "nbconvert_exporter": "python",
   "pygments_lexer": "ipython3",
   "version": "3.6.0"
  }
 },
 "nbformat": 4,
 "nbformat_minor": 2
}
