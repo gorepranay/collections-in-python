{
 "cells": [
  {
   "cell_type": "code",
   "execution_count": 1,
   "metadata": {
    "collapsed": false
   },
   "outputs": [
    {
     "name": "stdout",
     "output_type": "stream",
     "text": [
      "Counter()\n"
     ]
    }
   ],
   "source": [
    "from collections import Counter\n",
    "\n",
    "c=Counter()\n",
    "print(c)"
   ]
  },
  {
   "cell_type": "code",
   "execution_count": 5,
   "metadata": {
    "collapsed": false
   },
   "outputs": [
    {
     "name": "stdout",
     "output_type": "stream",
     "text": [
      "Counter({'pqr': 3, 'xyz': 2, 'mno': 1})\n",
      "Counter({'pqr': 3, 'xyz': 2, 'mno': 1})\n",
      "Counter({'xyz': 'Pranay', 'pqr': 30, 'mno': 11.1})\n"
     ]
    }
   ],
   "source": [
    "from collections import Counter \n",
    "  \n",
    "# By sequence of items. \n",
    "c1=Counter(['xyz', 'pqr', 'xyz', 'pqr', 'mno', 'pqr'])\n",
    "  \n",
    "# By keys and counts in a dictionary. \n",
    "c2=Counter({'xyz':2, 'pqr':3, 'mno':1}) \n",
    "  \n",
    "# Using name:value mapping. \n",
    "c3=Counter(xyz='Pranay', pqr=30, mno=11.10) \n",
    "\n",
    "print(c1)\n",
    "print(c2)\n",
    "print(c3)"
   ]
  },
  {
   "cell_type": "code",
   "execution_count": 8,
   "metadata": {
    "collapsed": false
   },
   "outputs": [
    {
     "name": "stdout",
     "output_type": "stream",
     "text": [
      "Counter({2: 4, 3: 4, 1: 3, 4: 2, 5: 1})\n",
      "dict_items([(1, 3), (2, 4), (3, 4), (4, 2), (5, 1)])\n",
      "dict_keys([1, 2, 3, 4, 5])\n",
      "dict_values([3, 4, 4, 2, 1])\n"
     ]
    }
   ],
   "source": [
    "from collections import Counter\n",
    "\n",
    "myList = [1,1,2,3,4,5,3,2,3,4,2,1,2,3]\n",
    "print(Counter(myList)) # Counter object\n",
    "\n",
    "print(Counter(myList).items()) # printing both key and value\n",
    "\n",
    "print(Counter(myList).keys()) # getting only keys\n",
    "\n",
    "print(Counter(myList).values()) # getting only values"
   ]
  },
  {
   "cell_type": "code",
   "execution_count": 9,
   "metadata": {
    "collapsed": false
   },
   "outputs": [
    {
     "name": "stdout",
     "output_type": "stream",
     "text": [
      "2\n",
      "0\n"
     ]
    }
   ],
   "source": [
    "# Non-existing key access return '0'\n",
    "from collections import Counter\n",
    "\n",
    "c1=Counter(['xyz', 'pqr', 'xyz', 'pqr', 'mno', 'pqr'])\n",
    "print(c1['xyz'])\n",
    "print(c1['abc']) # Key 'abc' does not exist in Counter object.\n"
   ]
  },
  {
   "cell_type": "code",
   "execution_count": 19,
   "metadata": {
    "collapsed": false
   },
   "outputs": [
    {
     "name": "stdout",
     "output_type": "stream",
     "text": [
      "Counter({'xyz': 2, 'pqr': 1})\n",
      "Counter({'a': 1, 'b': 1, 'c': 1, 'd': 1, 'e': 1, 'f': 1, 'g': 1})\n",
      "Counter({'comp': 'Amazon', 'serial': 110.2, 'cost': 11})\n",
      "-----------------------------------------------------------------\n",
      "Counter({'xyz': 6, 'pqr': 1})\n",
      "Counter({'d': 6, 'a': 2, 'b': 1, 'c': 1, 'e': 1, 'f': 1, 'g': 1})\n",
      "Counter({'comp': 'Microsoft_Amazon', 'serial': 210.2, 'cost': 21})\n"
     ]
    }
   ],
   "source": [
    "# update() method\n",
    "\n",
    "c1=Counter(['xyz', 'pqr', 'xyz'])\n",
    "c2=Counter('abcdefg')\n",
    "c3=Counter({'comp': 'Amazon', 'serial': 110.2, 'cost': 11})\n",
    "#Before\n",
    "print(c1)\n",
    "print(c2)\n",
    "print(c3)\n",
    "\n",
    "c1.update(xyz=4)\n",
    "c2.update({'a':1, 'd':5})\n",
    "c3.update(comp='Microsoft_', serial=100.0, cost=10)\n",
    "#After update\n",
    "print(\"-\" * 65)\n",
    "print(c1)\n",
    "print(c2)\n",
    "print(c3)"
   ]
  },
  {
   "cell_type": "code",
   "execution_count": 30,
   "metadata": {
    "collapsed": false
   },
   "outputs": [
    {
     "name": "stdout",
     "output_type": "stream",
     "text": [
      "['a', 'a', 'b', 'b', 'c', 'c', 'd', 'd', 'A', 'B', 'C', 'D']\n",
      "['xyz', 'xyz', 'xyz', 'pqr', 'mno', 'mno']\n",
      "[('a', 2), ('b', 2)]\n",
      "[('xyz', 3)]\n"
     ]
    }
   ],
   "source": [
    "# elements and most_common\n",
    "\n",
    "c1=Counter('abcdabcdABCD')\n",
    "c2=Counter(['xyz', 'pqr', 'xyz','mno','mno','xyz'])\n",
    "\n",
    "print(list(c1.elements()))\n",
    "print(list(c2.elements()))\n",
    "print(c1.most_common(2)) # top 2 most common occurences\n",
    "print(c2.most_common(1)) # highest occurence"
   ]
  },
  {
   "cell_type": "code",
   "execution_count": 33,
   "metadata": {
    "collapsed": false
   },
   "outputs": [
    {
     "name": "stdout",
     "output_type": "stream",
     "text": [
      "Counter({'b': 3, 'a': 2, 'c': 1})\n",
      "Counter({'g': 1, 'f': 1, 'e': 1, 'd': 1, 'c': 1, 'b': 1, 'a': 1})\n",
      "Total count of c1 and c2:  Counter({'b': 4, 'a': 3, 'c': 2, 'g': 1, 'f': 1, 'e': 1, 'd': 1})\n",
      "Substraction of c2 from c1:  Counter({'b': 2, 'a': 1})\n",
      "Substraction of c1 from c2:  Counter()\n",
      "Intersection:  Counter({'a': 1, 'b': 1, 'c': 1})\n",
      "Union:  Counter({'b': 3, 'a': 2, 'c': 1, 'g': 1, 'f': 1, 'e': 1, 'd': 1})\n"
     ]
    }
   ],
   "source": [
    "# Arthimetic and set operation on COunter objects\n",
    "\n",
    "c1 = Counter(['a', 'b', 'c', 'a', 'b', 'b'])\n",
    "c2 = Counter('gfedcba')\n",
    "\n",
    "print(c1)\n",
    "print(c2)\n",
    "print(\"Total count of c1 and c2: \", c1 + c2)\n",
    "print(\"Substraction of c2 from c1: \", c1 - c2)\n",
    "print(\"Substraction of c1 from c2: \", c2 - c2)\n",
    "print(\"Intersection: \", c1 & c2)\n",
    "print(\"Union: \", c1 | c2)"
   ]
  },
  {
   "cell_type": "code",
   "execution_count": null,
   "metadata": {
    "collapsed": true
   },
   "outputs": [],
   "source": []
  }
 ],
 "metadata": {
  "kernelspec": {
   "display_name": "Python 3",
   "language": "python",
   "name": "python3"
  },
  "language_info": {
   "codemirror_mode": {
    "name": "ipython",
    "version": 3
   },
   "file_extension": ".py",
   "mimetype": "text/x-python",
   "name": "python",
   "nbconvert_exporter": "python",
   "pygments_lexer": "ipython3",
   "version": "3.6.0"
  }
 },
 "nbformat": 4,
 "nbformat_minor": 2
}
