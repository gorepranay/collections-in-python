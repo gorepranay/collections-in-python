{
 "cells": [
  {
   "cell_type": "code",
   "execution_count": 27,
   "metadata": {
    "collapsed": false
   },
   "outputs": [
    {
     "name": "stdout",
     "output_type": "stream",
     "text": [
      "{'a': [20, 40], 'd': (1, 2, 3, 4), 'e': {'a': 1, 'b': 2}}\n"
     ]
    }
   ],
   "source": [
    "# Using setdefault() method on a normal dictionary\n",
    "\n",
    "d={}\n",
    "d.setdefault('a',[])\n",
    "d.setdefault('d',(1,2,3,4))\n",
    "d.setdefault('e',{'a':1,'b':2})\n",
    "\n",
    "d['a'].append(20)\n",
    "d['a'].append(40)\n",
    "print(d)\n",
    "\n"
   ]
  },
  {
   "cell_type": "code",
   "execution_count": 28,
   "metadata": {
    "collapsed": false
   },
   "outputs": [
    {
     "name": "stdout",
     "output_type": "stream",
     "text": [
      "Amazon\n",
      "abc\n",
      "50\n"
     ]
    }
   ],
   "source": [
    "# defaultdict\n",
    "\n",
    "from collections import defaultdict\n",
    "\n",
    "# default method to be supplied to defaultdict\n",
    "def defaultmethod():\n",
    "    return 'abc'\n",
    "\n",
    "# another default method to be supplied to defaultdict\n",
    "defaultval2=lambda:50\n",
    "\n",
    "d1 = defaultdict(defaultmethod)\n",
    "d2 = defaultdict(defaultval2)\n",
    "d1['company']='Amazon'\n",
    "\n",
    "print(d1['company'])\n",
    "print(d1['name']) # default method will (defaultmethod) return string 'abc'\n",
    "print(d2['address']) # default method (defaultval2) will return value 50"
   ]
  },
  {
   "cell_type": "code",
   "execution_count": 30,
   "metadata": {
    "collapsed": false
   },
   "outputs": [
    {
     "name": "stdout",
     "output_type": "stream",
     "text": [
      "defaultdict(<class 'int'>, {20: 40, 35: 70, 40: 80, 55: 110, 70: 140, 85: 170})\n",
      "0\n",
      "defaultdict(<class 'float'>, {'jan': 1.0, 'feb': 1.0, 'mar': 1.0, 'apr': 1.0, 'jun': 1.0, 'jul': 1.0})\n",
      "0\n"
     ]
    }
   ],
   "source": [
    "from collections import defaultdict\n",
    "\n",
    "numbers=[20,35,40,55,70,85]\n",
    "\n",
    "num_dict = defaultdict(int) # default value of int is 0\n",
    "for num in numbers:\n",
    "    num_dict[num] = num*2 # multiply element's value by 2\n",
    "\n",
    "print(num_dict)\n",
    "print(num_dict[100])\n",
    "\n",
    "months = ['jan','feb','mar','apr','jun','jul']\n",
    "mon_dict=defaultdict(float) # default value of float is 0\n",
    "\n",
    "for mon in months:\n",
    "    mon_dict[mon] +=1 # increment element's value by 1\n",
    "\n",
    "print(mon_dict)\n",
    "print(num_dict['dec'])"
   ]
  },
  {
   "cell_type": "code",
   "execution_count": 34,
   "metadata": {
    "collapsed": false,
    "scrolled": true
   },
   "outputs": [
    {
     "name": "stdout",
     "output_type": "stream",
     "text": [
      "IND ['Delhi', 'Mumbai', 'Chennai']\n",
      "NEPAL ['Kathmandu']\n",
      "AUSTRALIA ['Sydney', 'Canberra']\n",
      "\n",
      "IND Chennai\n",
      "NEPAL Kathmandu\n",
      "AUSTRALIA Canberra\n"
     ]
    }
   ],
   "source": [
    "from collections import defaultdict\n",
    "\n",
    "############### using list as defuslt Factory ############\n",
    "\n",
    "country_cap = [('IND','Delhi'), ('NEPAL','Kathmandu'), ('IND','Mumbai'),('AUSTRALIA','Sydney'),\n",
    "               ('IND','Chennai'),('AUSTRALIA','Canberra')]\n",
    "\n",
    "cities = defaultdict(list)\n",
    "for country, city in country_cap:\n",
    "    cities[country].append(city)\n",
    "\n",
    "for k,v in cities.items():\n",
    "    print(k,v)\n",
    "\n",
    "############### using dictionary as defuslt Factory ############\n",
    "print()\n",
    "cities = defaultdict(dict)\n",
    "for country, city in country_cap:\n",
    "    cities[country]=city # Last entry of country key value will be placed in the dictionary\n",
    "\n",
    "for k,v in cities.items():\n",
    "    print(k,v)\n"
   ]
  },
  {
   "cell_type": "code",
   "execution_count": null,
   "metadata": {
    "collapsed": true
   },
   "outputs": [],
   "source": []
  }
 ],
 "metadata": {
  "kernelspec": {
   "display_name": "Python 3",
   "language": "python",
   "name": "python3"
  },
  "language_info": {
   "codemirror_mode": {
    "name": "ipython",
    "version": 3
   },
   "file_extension": ".py",
   "mimetype": "text/x-python",
   "name": "python",
   "nbconvert_exporter": "python",
   "pygments_lexer": "ipython3",
   "version": "3.6.0"
  }
 },
 "nbformat": 4,
 "nbformat_minor": 2
}
