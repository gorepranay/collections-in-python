{
 "cells": [
  {
   "cell_type": "code",
   "execution_count": 9,
   "metadata": {
    "collapsed": false
   },
   "outputs": [
    {
     "name": "stdout",
     "output_type": "stream",
     "text": [
      "List: ['abc', 'xyz', 'pqr', 'lmn']\n",
      "List 1st item from left: abc xyz\n",
      "List 1st item from right: lmn pqr\n",
      "----------------------------------------\n",
      "Deque: deque(['abc', 'xyz', 'pqr', 'lmn'])\n",
      "Deque 1st item from left: abc xyz\n",
      "Deque 1st item from right: lmn pqr\n"
     ]
    }
   ],
   "source": [
    "from collections import deque\n",
    "\n",
    "norm_list=['abc','xyz','pqr','lmn'] # Initializing normal list\n",
    "dq = deque(['abc','xyz','pqr','lmn']) #Initializing deque\n",
    "\n",
    "print('List:', norm_list)\n",
    "print('List 1st item from left:', norm_list[0], norm_list[1])\n",
    "print('List 1st item from right:', norm_list[-1],norm_list[-2])\n",
    "\n",
    "print('-' * 40)\n",
    "print('Deque:', dq)\n",
    "print('Deque 1st item from left:', dq[0], dq[1])\n",
    "print('Deque 1st item from right:', dq[-1], dq[-2])\n",
    "\n",
    "# d.remove('c')\n",
    "# print 'remove(c):', d"
   ]
  },
  {
   "cell_type": "code",
   "execution_count": 20,
   "metadata": {
    "collapsed": false
   },
   "outputs": [
    {
     "name": "stdout",
     "output_type": "stream",
     "text": [
      "deque(['abc', 'xyz', 'pqr', 'lmn'])\n",
      "----------------------------------------\n",
      "deque(['abc', 'xyz', 'pqr', 'lmn', 'a', 'b', 'c', 'd'])\n",
      "----------------------------------------\n",
      "deque(['d', 'c', 'b', 'a', 'abc', 'xyz', 'pqr', 'lmn', 'a', 'b', 'c', 'd'])\n",
      "----------------------------------------\n",
      "deque(['abcd', 'd', 'c', 'b', 'a', 'abc', 'xyz', 'pqr', 'lmn', 'a', 'b', 'c', 'd'])\n",
      "----------------------------------------\n",
      "deque(['abcd', 'd', 'c', 'b', 'a', 'abc', 'xyz', 'pqr', 'lmn', 'a', 'b', 'c', 'd', 'abcd'])\n"
     ]
    }
   ],
   "source": [
    "from collections import deque\n",
    "def printDash():\n",
    "    print('-' * 40) \n",
    "\n",
    "dq = deque(['abc','xyz','pqr','lmn']) #Initializing deque\n",
    "print(dq)\n",
    "\n",
    "dq.extend('abcd')\n",
    "printDash()\n",
    "print(dq)\n",
    "\n",
    "dq.extendleft('abcd')\n",
    "printDash()\n",
    "print(dq)\n",
    "\n",
    "dq.appendleft('abcd')\n",
    "printDash()\n",
    "print(dq)\n",
    "\n",
    "dq.append('abcd')\n",
    "printDash()\n",
    "print(dq)"
   ]
  },
  {
   "cell_type": "code",
   "execution_count": 21,
   "metadata": {
    "collapsed": false
   },
   "outputs": [
    {
     "name": "stdout",
     "output_type": "stream",
     "text": [
      "deque(['abcd', 'd', 'c', 'b', 'a', 'abc', 'xyz', 'pqr', 'lmn', 'a', 'b', 'c', 'd', 'abcd'])\n",
      "----------------------------------------\n",
      "deque(['abcd', 'd', 'c', 'b', 'a', 'abc', 'xyz', 'pqr', 'lmn', 'a', 'b', 'c', 'd'])\n",
      "----------------------------------------\n",
      "deque(['d', 'c', 'b', 'a', 'abc', 'xyz', 'pqr', 'lmn', 'a', 'b', 'c', 'd'])\n"
     ]
    }
   ],
   "source": [
    "from collections import deque\n",
    "def printDash():\n",
    "    print('-' * 40) \n",
    "\n",
    "dq=deque(['abcd', 'd', 'c', 'b', 'a', 'abc', 'xyz', 'pqr', 'lmn', 'a', 'b', 'c', 'd', 'abcd'])\n",
    "print(dq)\n",
    "\n",
    "printDash()\n",
    "dq.pop() # will return an item from the right end\n",
    "print(dq)\n",
    "\n",
    "\n",
    "printDash()\n",
    "dq.popleft() # will return an item from left end\n",
    "print(dq)\n"
   ]
  },
  {
   "cell_type": "code",
   "execution_count": 37,
   "metadata": {
    "collapsed": false
   },
   "outputs": [
    {
     "name": "stdout",
     "output_type": "stream",
     "text": [
      "deque(['pqrs', 'b', 'a', 'abc', 'xyz', 'a', 'd', 'abcd'])\n",
      "----------------------------------------\n",
      "'a' occurs at a position :  2\n",
      "----------------------------------------\n",
      "Inserting 'Python' at 4th position :  deque(['pqrs', 'b', 'a', 'abc', 'Python', 'xyz', 'a', 'd', 'abcd'])\n",
      "----------------------------------------\n",
      "Count of 'a' in deque is :  2\n"
     ]
    }
   ],
   "source": [
    "from collections import deque\n",
    "def printDash():\n",
    "    print('-' * 40) \n",
    "\n",
    "dq=deque(['pqrs', 'b', 'a', 'abc', 'xyz', 'a', 'd', 'abcd'])\n",
    "print(dq)\n",
    "\n",
    "# index() to print the first occurrence of 'a' .\n",
    "# We can specify the range in which item needs to be searched.\n",
    "printDash()\n",
    "print (\"\\'a\\' occurs at a position : \",dq.index('a',0,len(dq))) \n",
    "\n",
    "# insert() values at specific position \n",
    "dq.insert(4,'Python')  # Inserting string 'Python' at 4th position\n",
    "\n",
    "# printing deque \n",
    "printDash()\n",
    "print (\"Inserting 'Python' at 4th position : \",dq)\n",
    "\n",
    "# count() to count the occurrences of an item\n",
    "printDash()\n",
    "print (\"Count of \\'a\\' in deque is : \",dq.count('a'))\n"
   ]
  },
  {
   "cell_type": "code",
   "execution_count": 38,
   "metadata": {
    "collapsed": false
   },
   "outputs": [
    {
     "name": "stdout",
     "output_type": "stream",
     "text": [
      "deque(['pqrs', 'b', 'a', 'abc', 'xyz', 'a', 'd', 'abcd'])\n",
      "----------------------------------------\n",
      "The deque after deleting first occurrence of 'a' is :  deque(['pqrs', 'b', 'abc', 'xyz', 'a', 'd', 'abcd'])\n",
      "----------------------------------------\n",
      "The deque after rotating :  deque(['d', 'abcd', 'pqrs', 'b', 'abc', 'xyz', 'a'])\n",
      "----------------------------------------\n",
      "The deque after reversing :  deque(['a', 'xyz', 'abc', 'b', 'pqrs', 'abcd', 'd'])\n"
     ]
    }
   ],
   "source": [
    "from collections import deque\n",
    "def printDash():\n",
    "    print('-' * 40) \n",
    "\n",
    "dq=deque(['pqrs', 'b', 'a', 'abc', 'xyz', 'a', 'd', 'abcd'])\n",
    "print(dq)\n",
    "\n",
    "# To remove the first occurrence of an item \n",
    "dq.remove('a') \n",
    "\n",
    "# printing modified deque \n",
    "printDash()\n",
    "print (\"The deque after deleting first occurrence of \\'a\\' is : \",dq) \n",
    "\n",
    "# rotate() to rotate the deque \n",
    "# rotates by 3 to left \n",
    "dq.rotate(2) \n",
    "\n",
    "# printing deque \n",
    "printDash()\n",
    "print (\"The deque after rotating : \",dq) \n",
    "\n",
    "# To reverse the deque \n",
    "dq.reverse() \n",
    "\n",
    "# printing  deque \n",
    "printDash()\n",
    "print (\"The deque after reversing : \",dq) \n",
    "\n"
   ]
  },
  {
   "cell_type": "code",
   "execution_count": null,
   "metadata": {
    "collapsed": true
   },
   "outputs": [],
   "source": []
  }
 ],
 "metadata": {
  "kernelspec": {
   "display_name": "Python 3",
   "language": "python",
   "name": "python3"
  },
  "language_info": {
   "codemirror_mode": {
    "name": "ipython",
    "version": 3
   },
   "file_extension": ".py",
   "mimetype": "text/x-python",
   "name": "python",
   "nbconvert_exporter": "python",
   "pygments_lexer": "ipython3",
   "version": "3.6.0"
  }
 },
 "nbformat": 4,
 "nbformat_minor": 2
}
