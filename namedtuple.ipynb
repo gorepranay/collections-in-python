{
 "cells": [
  {
   "cell_type": "code",
   "execution_count": 7,
   "metadata": {
    "collapsed": false
   },
   "outputs": [
    {
     "name": "stdout",
     "output_type": "stream",
     "text": [
      "human(name='pranay', city='London', country='England')\n",
      "pranay London\n",
      "pranay England\n",
      "-----------------------------------\n",
      "pranay\n",
      "London\n",
      "England\n"
     ]
    }
   ],
   "source": [
    "from collections import namedtuple\n",
    "\n",
    "nam_tup = namedtuple('human', 'name city country') # declaring a namedtuple\n",
    "obj = nam_tup(name=\"pranay\", city=\"London\", country=\"England\") # initializing \n",
    "print(obj) # printingthe completenamedtuple object\n",
    "print(obj.name, obj.city) # accessing objects specific fields\n",
    "\n",
    "print(obj[0],obj[2]) # accessing objects using indexes\n",
    "print('-' * 35)\n",
    "for x in obj: # Another way of accessing items of a namedtuple\n",
    "    print(x)"
   ]
  },
  {
   "cell_type": "code",
   "execution_count": 8,
   "metadata": {
    "collapsed": false
   },
   "outputs": [
    {
     "name": "stdout",
     "output_type": "stream",
     "text": [
      "human(name='pranay', city='London', country='England')\n",
      "OrderedDict([('name', 'pranay'), ('city', 'London'), ('country', 'England')])\n"
     ]
    }
   ],
   "source": [
    "from collections import namedtuple\n",
    "\n",
    "nam_tup = namedtuple('human', 'name city country') # declaring a namedtuple\n",
    "obj = nam_tup(name=\"pranay\", city=\"London\", country=\"England\") # initializing \n",
    "print(obj) # printingthe completenamedtuple object\n",
    "\n",
    "print(obj._asdict()) # converting namedtuple to a dictionary"
   ]
  },
  {
   "cell_type": "code",
   "execution_count": 11,
   "metadata": {
    "collapsed": false
   },
   "outputs": [
    {
     "ename": "ValueError",
     "evalue": "Type names and field names cannot be a keyword: 'class'",
     "output_type": "error",
     "traceback": [
      "\u001b[0;31m---------------------------------------------------------------------------\u001b[0m",
      "\u001b[0;31mValueError\u001b[0m                                Traceback (most recent call last)",
      "\u001b[0;32m<ipython-input-11-fbb9899a81bb>\u001b[0m in \u001b[0;36m<module>\u001b[0;34m()\u001b[0m\n\u001b[1;32m      1\u001b[0m \u001b[0;32mfrom\u001b[0m \u001b[0mcollections\u001b[0m \u001b[0;32mimport\u001b[0m \u001b[0mnamedtuple\u001b[0m\u001b[0;34m\u001b[0m\u001b[0m\n\u001b[1;32m      2\u001b[0m \u001b[0;34m\u001b[0m\u001b[0m\n\u001b[0;32m----> 3\u001b[0;31m \u001b[0mnam_tup1\u001b[0m\u001b[0;34m=\u001b[0m\u001b[0mnamedtuple\u001b[0m\u001b[0;34m(\u001b[0m\u001b[0;34m'human'\u001b[0m\u001b[0;34m,\u001b[0m \u001b[0;34m'name city address class'\u001b[0m\u001b[0;34m)\u001b[0m\u001b[0;34m\u001b[0m\u001b[0m\n\u001b[0m\u001b[1;32m      4\u001b[0m \u001b[0mnam_tup2\u001b[0m\u001b[0;34m=\u001b[0m\u001b[0mnamedtuple\u001b[0m\u001b[0;34m(\u001b[0m\u001b[0;34m'human'\u001b[0m\u001b[0;34m,\u001b[0m \u001b[0;34m'name city address city'\u001b[0m\u001b[0;34m)\u001b[0m\u001b[0;34m\u001b[0m\u001b[0m\n",
      "\u001b[0;32m/Users/pranaygore/anaconda/lib/python3.6/collections/__init__.py\u001b[0m in \u001b[0;36mnamedtuple\u001b[0;34m(typename, field_names, verbose, rename, module)\u001b[0m\n\u001b[1;32m    401\u001b[0m         \u001b[0;32mif\u001b[0m \u001b[0m_iskeyword\u001b[0m\u001b[0;34m(\u001b[0m\u001b[0mname\u001b[0m\u001b[0;34m)\u001b[0m\u001b[0;34m:\u001b[0m\u001b[0;34m\u001b[0m\u001b[0m\n\u001b[1;32m    402\u001b[0m             raise ValueError('Type names and field names cannot be a '\n\u001b[0;32m--> 403\u001b[0;31m                              'keyword: %r' % name)\n\u001b[0m\u001b[1;32m    404\u001b[0m     \u001b[0mseen\u001b[0m \u001b[0;34m=\u001b[0m \u001b[0mset\u001b[0m\u001b[0;34m(\u001b[0m\u001b[0;34m)\u001b[0m\u001b[0;34m\u001b[0m\u001b[0m\n\u001b[1;32m    405\u001b[0m     \u001b[0;32mfor\u001b[0m \u001b[0mname\u001b[0m \u001b[0;32min\u001b[0m \u001b[0mfield_names\u001b[0m\u001b[0;34m:\u001b[0m\u001b[0;34m\u001b[0m\u001b[0m\n",
      "\u001b[0;31mValueError\u001b[0m: Type names and field names cannot be a keyword: 'class'"
     ]
    }
   ],
   "source": [
    "from collections import namedtuple\n",
    "\n",
    "nam_tup1=namedtuple('human', 'name city address class') # class is python reserved name\n",
    "nam_tup2=namedtuple('human', 'name city address city') # city field has occured twice\n"
   ]
  },
  {
   "cell_type": "code",
   "execution_count": 19,
   "metadata": {
    "collapsed": false
   },
   "outputs": [
    {
     "name": "stdout",
     "output_type": "stream",
     "text": [
      "('name', 'city', 'address', '_3')\n",
      "('name', '_1', 'address', 'city')\n"
     ]
    }
   ],
   "source": [
    "from collections import namedtuple\n",
    "\n",
    "nam_tup1=namedtuple('human', 'name city address class', rename=True) # class is python reserved name\n",
    "nam_tup2=namedtuple('human', 'name name address city', rename=True) # city field has occured twice\n",
    "print(nam_tup1._fields)\n",
    "print(nam_tup2._fields)"
   ]
  },
  {
   "cell_type": "code",
   "execution_count": null,
   "metadata": {
    "collapsed": true
   },
   "outputs": [],
   "source": []
  }
 ],
 "metadata": {
  "kernelspec": {
   "display_name": "Python 3",
   "language": "python",
   "name": "python3"
  },
  "language_info": {
   "codemirror_mode": {
    "name": "ipython",
    "version": 3
   },
   "file_extension": ".py",
   "mimetype": "text/x-python",
   "name": "python",
   "nbconvert_exporter": "python",
   "pygments_lexer": "ipython3",
   "version": "3.6.0"
  }
 },
 "nbformat": 4,
 "nbformat_minor": 2
}
